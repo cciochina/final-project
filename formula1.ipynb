{
 "cells": [
  {
   "cell_type": "code",
   "execution_count": 4,
   "id": "e2ac31f7",
   "metadata": {},
   "outputs": [],
   "source": [
    "import pandas as pd\n",
    "import sqlalchemy\n",
    "from sqlalchemy.ext.automap import automap_base\n",
    "from sqlalchemy.orm import Session\n",
    "from sqlalchemy import create_engine, func, inspect,Integer\n"
   ]
  },
  {
   "cell_type": "code",
   "execution_count": 5,
   "id": "b7be0781",
   "metadata": {},
   "outputs": [],
   "source": [
    "# Import data and convert it into DF\n",
    "constr_1_csv = \"./Resources/csv/constructor_results.csv\"\n",
    "constr_2_csv = \"./Resources/csv/constructors.csv\"\n",
    "constr_3_csv = \"./Resources/csv/races.csv\"\n",
    "constr_1_df = pd.read_csv(constr_1_csv)\n",
    "constr_2_df = pd.read_csv(constr_2_csv)\n",
    "constr_3_df = pd.read_csv(constr_3_csv)\n",
    "# Merge the data in one\n",
    "pre_contr_df = pd.merge(constr_1_df, constr_2_df, on=\"constructorId\")\n",
    "final_contr_df = pd.merge(pre_contr_df, constr_3_df, on=\"raceId\")\n",
    "\n",
    "\n",
    "# Filter only the needed columns\n",
    "final_c1_df = final_contr_df[[\"constructorId\",\"points\",\"name_x\",\"nationality\",\"year\"]]\n",
    "final_c1_df = final_c1_df.rename(columns={\"name_x\": \"constr_name\"})\n",
    "final_c1_df\n",
    "\n",
    "# Create an empty data frame\n",
    "c1_df = pd.DataFrame()\n",
    "\n",
    "# In the last 10 years.. \n",
    "final_c1_df = final_c1_df[(final_c1_df['year'] >= 2010) & (final_c1_df['year'] < 2021)]\n",
    "final_c1_df\n",
    "\n",
    "    \n",
    "group_cons = final_c1_df.groupby(['year', 'constr_name', 'nationality', 'constructorId']).sum()['points']\n",
    "group_cons\n",
    "group_cons = group_cons.to_frame()\n",
    "group_cons\n",
    "group_cons = group_cons.reset_index()\n",
    "group_cons\n",
    "\n",
    "# rename columns for later use in data base\n",
    "group_cons = group_cons.rename(columns={'constr_name':'name', 'constructorId':'constructorid'})\n",
    "\n",
    "\n",
    "group_cons.to_csv('./Output/F1.csv')"
   ]
  },
  {
   "cell_type": "code",
   "execution_count": 7,
   "id": "3dc91bab",
   "metadata": {},
   "outputs": [
    {
     "data": {
      "image/png": "[encoded data removed]",
      "text/plain": [
       "<Figure size 432x288 with 1 Axes>"
      ]
     },
     "metadata": {
      "needs_background": "light"
     },
     "output_type": "display_data"
    }
   ],
   "source": [
    "import matplotlib.pyplot as plt\n",
    "x_values = group_cons[group_cons['year'] == 2010]\n",
    "\n",
    "x_values.plot.bar(x='name', y='points', title='Points for 2010');\n"
   ]
  },
  {
   "cell_type": "code",
   "execution_count": null,
   "id": "8ae639d4",
   "metadata": {},
   "outputs": [],
   "source": []
  },
  {
   "cell_type": "code",
   "execution_count": null,
   "id": "70c0bb22",
   "metadata": {
    "scrolled": true
   },
   "outputs": [],
   "source": []
  },
  {
   "cell_type": "code",
   "execution_count": null,
   "id": "96ce5546",
   "metadata": {},
   "outputs": [],
   "source": []
  },
  {
   "cell_type": "markdown",
   "id": "4fe30a23",
   "metadata": {},
   "source": []
  },
  {
   "cell_type": "code",
   "execution_count": 14,
   "id": "ed92e367",
   "metadata": {},
   "outputs": [],
   "source": [
    "f1 = pd.DataFrame()"
   ]
  },
  {
   "cell_type": "code",
   "execution_count": 15,
   "id": "dc338e17",
   "metadata": {},
   "outputs": [],
   "source": [
    "# Connect to local data base\n",
    "from password import password\n",
    "connect_str = f\"postgres:{password}@localhost:5432/Formula1\" \n",
    "engine = create_engine(f\"postgresql://{connect_str}\")"
   ]
  },
  {
   "cell_type": "code",
   "execution_count": 16,
   "id": "5011b424",
   "metadata": {},
   "outputs": [
    {
     "name": "stderr",
     "output_type": "stream",
     "text": [
      "<ipython-input-16-73dc095f7130>:2: SADeprecationWarning: The Engine.table_names() method is deprecated and will be removed in a future release.  Please refer to Inspector.get_table_names(). (deprecated since: 1.4)\n",
      "  engine.table_names()\n"
     ]
    },
    {
     "data": {
      "text/plain": [
       "['f1']"
      ]
     },
     "execution_count": 16,
     "metadata": {},
     "output_type": "execute_result"
    }
   ],
   "source": [
    "# Check for tables\n",
    "engine.table_names()"
   ]
  },
  {
   "cell_type": "code",
   "execution_count": 17,
   "id": "77a907e8",
   "metadata": {},
   "outputs": [],
   "source": [
    "# Use pandas to load csv converted DataFrame into Database\n",
    "f1.to_sql(name=\"f1\", con=engine, if_exists=\"append\", index=False)"
   ]
  },
  {
   "cell_type": "code",
   "execution_count": 18,
   "id": "d4984d2b",
   "metadata": {},
   "outputs": [
    {
     "data": {
      "text/html": [
       "<div>\n",
       "<style scoped>\n",
       "    .dataframe tbody tr th:only-of-type {\n",
       "        vertical-align: middle;\n",
       "    }\n",
       "\n",
       "    .dataframe tbody tr th {\n",
       "        vertical-align: top;\n",
       "    }\n",
       "\n",
       "    .dataframe thead th {\n",
       "        text-align: right;\n",
       "    }\n",
       "</style>\n",
       "<table border=\"1\" class=\"dataframe\">\n",
       "  <thead>\n",
       "    <tr style=\"text-align: right;\">\n",
       "      <th></th>\n",
       "      <th>id</th>\n",
       "      <th>year</th>\n",
       "      <th>name</th>\n",
       "      <th>nationality</th>\n",
       "      <th>constructorid</th>\n",
       "      <th>points</th>\n",
       "    </tr>\n",
       "  </thead>\n",
       "  <tbody>\n",
       "    <tr>\n",
       "      <th>0</th>\n",
       "      <td>0</td>\n",
       "      <td>2010</td>\n",
       "      <td>Ferrari</td>\n",
       "      <td>Italian</td>\n",
       "      <td>6</td>\n",
       "      <td>396.0</td>\n",
       "    </tr>\n",
       "    <tr>\n",
       "      <th>1</th>\n",
       "      <td>1</td>\n",
       "      <td>2010</td>\n",
       "      <td>Force India</td>\n",
       "      <td>Indian</td>\n",
       "      <td>10</td>\n",
       "      <td>68.0</td>\n",
       "    </tr>\n",
       "    <tr>\n",
       "      <th>2</th>\n",
       "      <td>2</td>\n",
       "      <td>2010</td>\n",
       "      <td>HRT</td>\n",
       "      <td>Spanish</td>\n",
       "      <td>164</td>\n",
       "      <td>0.0</td>\n",
       "    </tr>\n",
       "    <tr>\n",
       "      <th>3</th>\n",
       "      <td>3</td>\n",
       "      <td>2010</td>\n",
       "      <td>Lotus</td>\n",
       "      <td>Malaysian</td>\n",
       "      <td>205</td>\n",
       "      <td>0.0</td>\n",
       "    </tr>\n",
       "    <tr>\n",
       "      <th>4</th>\n",
       "      <td>4</td>\n",
       "      <td>2010</td>\n",
       "      <td>McLaren</td>\n",
       "      <td>British</td>\n",
       "      <td>1</td>\n",
       "      <td>454.0</td>\n",
       "    </tr>\n",
       "    <tr>\n",
       "      <th>...</th>\n",
       "      <td>...</td>\n",
       "      <td>...</td>\n",
       "      <td>...</td>\n",
       "      <td>...</td>\n",
       "      <td>...</td>\n",
       "      <td>...</td>\n",
       "    </tr>\n",
       "    <tr>\n",
       "      <th>115</th>\n",
       "      <td>115</td>\n",
       "      <td>2020</td>\n",
       "      <td>Mercedes</td>\n",
       "      <td>German</td>\n",
       "      <td>131</td>\n",
       "      <td>573.0</td>\n",
       "    </tr>\n",
       "    <tr>\n",
       "      <th>116</th>\n",
       "      <td>116</td>\n",
       "      <td>2020</td>\n",
       "      <td>Racing Point</td>\n",
       "      <td>British</td>\n",
       "      <td>211</td>\n",
       "      <td>210.0</td>\n",
       "    </tr>\n",
       "    <tr>\n",
       "      <th>117</th>\n",
       "      <td>117</td>\n",
       "      <td>2020</td>\n",
       "      <td>Red Bull</td>\n",
       "      <td>Austrian</td>\n",
       "      <td>9</td>\n",
       "      <td>319.0</td>\n",
       "    </tr>\n",
       "    <tr>\n",
       "      <th>118</th>\n",
       "      <td>118</td>\n",
       "      <td>2020</td>\n",
       "      <td>Renault</td>\n",
       "      <td>French</td>\n",
       "      <td>4</td>\n",
       "      <td>181.0</td>\n",
       "    </tr>\n",
       "    <tr>\n",
       "      <th>119</th>\n",
       "      <td>119</td>\n",
       "      <td>2020</td>\n",
       "      <td>Williams</td>\n",
       "      <td>British</td>\n",
       "      <td>3</td>\n",
       "      <td>0.0</td>\n",
       "    </tr>\n",
       "  </tbody>\n",
       "</table>\n",
       "<p>120 rows × 6 columns</p>\n",
       "</div>"
      ],
      "text/plain": [
       "      id  year          name nationality  constructorid  points\n",
       "0      0  2010       Ferrari     Italian              6   396.0\n",
       "1      1  2010   Force India      Indian             10    68.0\n",
       "2      2  2010           HRT     Spanish            164     0.0\n",
       "3      3  2010         Lotus   Malaysian            205     0.0\n",
       "4      4  2010       McLaren     British              1   454.0\n",
       "..   ...   ...           ...         ...            ...     ...\n",
       "115  115  2020      Mercedes      German            131   573.0\n",
       "116  116  2020  Racing Point     British            211   210.0\n",
       "117  117  2020      Red Bull    Austrian              9   319.0\n",
       "118  118  2020       Renault      French              4   181.0\n",
       "119  119  2020      Williams     British              3     0.0\n",
       "\n",
       "[120 rows x 6 columns]"
      ]
     },
     "execution_count": 18,
     "metadata": {},
     "output_type": "execute_result"
    }
   ],
   "source": [
    "# Confirm data has been added by querying c1_df table\n",
    "pd.read_sql_query(\"select * from f1\", con=engine)"
   ]
  },
  {
   "cell_type": "code",
   "execution_count": null,
   "id": "ee565efa",
   "metadata": {},
   "outputs": [],
   "source": []
  }
 ],
 "metadata": {
  "kernelspec": {
   "display_name": "Python 3",
   "language": "python",
   "name": "python3"
  },
  "language_info": {
   "codemirror_mode": {
    "name": "ipython",
    "version": 3
   },
   "file_extension": ".py",
   "mimetype": "text/x-python",
   "name": "python",
   "nbconvert_exporter": "python",
   "pygments_lexer": "ipython3",
   "version": "3.8.8"
  }
 },
 "nbformat": 4,
 "nbformat_minor": 5
}
